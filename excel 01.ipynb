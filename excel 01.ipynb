{
  "nbformat": 4,
  "nbformat_minor": 0,
  "metadata": {
    "colab": {
      "name": "Untitled14.ipynb",
      "provenance": [],
      "authorship_tag": "ABX9TyNzwoNsd+KYSL7M+zS1hYES",
      "include_colab_link": true
    },
    "kernelspec": {
      "name": "python3",
      "display_name": "Python 3"
    },
    "language_info": {
      "name": "python"
    }
  },
  "cells": [
    {
      "cell_type": "markdown",
      "metadata": {
        "id": "view-in-github",
        "colab_type": "text"
      },
      "source": [
        "<a href=\"https://colab.research.google.com/github/nikotamajapan/Django_portfolio/blob/main/excel%2001.ipynb\" target=\"_parent\"><img src=\"https://colab.research.google.com/assets/colab-badge.svg\" alt=\"Open In Colab\"/></a>"
      ]
    },
    {
      "cell_type": "code",
      "source": [
        "import pandas as pd\n",
        "from glob import glob\n",
        "import glob\n",
        "import re\n",
        "import os"
      ],
      "metadata": {
        "id": "DNExUNp-eEa8"
      },
      "execution_count": 50,
      "outputs": []
    },
    {
      "cell_type": "code",
      "source": [
        "file = glob.glob('/content/*.xlsx')\n",
        "ff=file[0]\n",
        "_ff=pd.read_excel(ff)"
      ],
      "metadata": {
        "id": "r_qRUVhGeEXz"
      },
      "execution_count": 63,
      "outputs": []
    },
    {
      "cell_type": "code",
      "source": [
        "columns = _ff.iloc[10,[1,2,4,10,11,14]]\n",
        "columns"
      ],
      "metadata": {
        "id": "c07a9h9heEHk",
        "colab": {
          "base_uri": "https://localhost:8080/"
        },
        "outputId": "f1a28818-60fd-496a-8107-d6ce77d47125"
      },
      "execution_count": 68,
      "outputs": [
        {
          "output_type": "execute_result",
          "data": {
            "text/plain": [
              "Unnamed: 1                 日付\n",
              "Unnamed: 2              商品コード\n",
              "Unnamed: 4                 品名\n",
              "Unnamed: 10      数量[L] or [-]\n",
              "Unnamed: 11    単価[¥/L] or [¥]\n",
              "Unnamed: 14                金額\n",
              "Name: 10, dtype: object"
            ]
          },
          "metadata": {},
          "execution_count": 68
        }
      ]
    },
    {
      "cell_type": "code",
      "source": [
        "ff=_ff.iloc[11:23 ,[1,2,4,10,11,14]]\n",
        "ff"
      ],
      "metadata": {
        "id": "AIbo62NxeEEu"
      },
      "execution_count": null,
      "outputs": []
    },
    {
      "cell_type": "code",
      "source": [
        "ff.columns = columns\n",
        "ff"
      ],
      "metadata": {
        "id": "hZA19f_beEBu",
        "colab": {
          "base_uri": "https://localhost:8080/",
          "height": 425
        },
        "outputId": "71ba3057-1fc7-49d7-a595-10209958a78b"
      },
      "execution_count": 75,
      "outputs": [
        {
          "output_type": "execute_result",
          "data": {
            "text/plain": [
              "10                   日付    商品コード     品名 数量[L] or [-] 単価[¥/L] or [¥]    金額\n",
              "11  2020-10-04 00:00:00  GSL0001  レギュラー           20            120  2400\n",
              "12  2020-10-05 00:00:00  GSL0002   ハイオク           45            160  7200\n",
              "13  2020-10-06 00:00:00  GSL0003     軽油           50            100  5000\n",
              "14  2020-10-07 00:00:00  GSL0002   ハイオク           45            160  7200\n",
              "15  2020-10-08 00:00:00  GSL0003     軽油           50            100  5000\n",
              "16  2020-10-09 00:00:00  CMT0002   洗車 B            1           1500  1500\n",
              "17  2020-10-10 00:00:00  GSL0003     軽油           50            100  5000\n",
              "18  2020-10-11 00:00:00  GSL0002   ハイオク           40            160  6400\n",
              "19  2020-10-12 00:00:00  GSL0002   ハイオク           30            160  4800\n",
              "20  2020-10-13 00:00:00  GSL0003     軽油           50            100  5000\n",
              "21  2020-10-14 00:00:00  GSL0003     軽油           50            100  5000\n",
              "22                  NaN      NaN    NaN          NaN            NaN     0"
            ],
            "text/html": [
              "\n",
              "  <div id=\"df-7115bc82-6bf0-4dc0-adfb-8eddb79e7d7c\">\n",
              "    <div class=\"colab-df-container\">\n",
              "      <div>\n",
              "<style scoped>\n",
              "    .dataframe tbody tr th:only-of-type {\n",
              "        vertical-align: middle;\n",
              "    }\n",
              "\n",
              "    .dataframe tbody tr th {\n",
              "        vertical-align: top;\n",
              "    }\n",
              "\n",
              "    .dataframe thead th {\n",
              "        text-align: right;\n",
              "    }\n",
              "</style>\n",
              "<table border=\"1\" class=\"dataframe\">\n",
              "  <thead>\n",
              "    <tr style=\"text-align: right;\">\n",
              "      <th>10</th>\n",
              "      <th>日付</th>\n",
              "      <th>商品コード</th>\n",
              "      <th>品名</th>\n",
              "      <th>数量[L] or [-]</th>\n",
              "      <th>単価[¥/L] or [¥]</th>\n",
              "      <th>金額</th>\n",
              "    </tr>\n",
              "  </thead>\n",
              "  <tbody>\n",
              "    <tr>\n",
              "      <th>11</th>\n",
              "      <td>2020-10-04 00:00:00</td>\n",
              "      <td>GSL0001</td>\n",
              "      <td>レギュラー</td>\n",
              "      <td>20</td>\n",
              "      <td>120</td>\n",
              "      <td>2400</td>\n",
              "    </tr>\n",
              "    <tr>\n",
              "      <th>12</th>\n",
              "      <td>2020-10-05 00:00:00</td>\n",
              "      <td>GSL0002</td>\n",
              "      <td>ハイオク</td>\n",
              "      <td>45</td>\n",
              "      <td>160</td>\n",
              "      <td>7200</td>\n",
              "    </tr>\n",
              "    <tr>\n",
              "      <th>13</th>\n",
              "      <td>2020-10-06 00:00:00</td>\n",
              "      <td>GSL0003</td>\n",
              "      <td>軽油</td>\n",
              "      <td>50</td>\n",
              "      <td>100</td>\n",
              "      <td>5000</td>\n",
              "    </tr>\n",
              "    <tr>\n",
              "      <th>14</th>\n",
              "      <td>2020-10-07 00:00:00</td>\n",
              "      <td>GSL0002</td>\n",
              "      <td>ハイオク</td>\n",
              "      <td>45</td>\n",
              "      <td>160</td>\n",
              "      <td>7200</td>\n",
              "    </tr>\n",
              "    <tr>\n",
              "      <th>15</th>\n",
              "      <td>2020-10-08 00:00:00</td>\n",
              "      <td>GSL0003</td>\n",
              "      <td>軽油</td>\n",
              "      <td>50</td>\n",
              "      <td>100</td>\n",
              "      <td>5000</td>\n",
              "    </tr>\n",
              "    <tr>\n",
              "      <th>16</th>\n",
              "      <td>2020-10-09 00:00:00</td>\n",
              "      <td>CMT0002</td>\n",
              "      <td>洗車 B</td>\n",
              "      <td>1</td>\n",
              "      <td>1500</td>\n",
              "      <td>1500</td>\n",
              "    </tr>\n",
              "    <tr>\n",
              "      <th>17</th>\n",
              "      <td>2020-10-10 00:00:00</td>\n",
              "      <td>GSL0003</td>\n",
              "      <td>軽油</td>\n",
              "      <td>50</td>\n",
              "      <td>100</td>\n",
              "      <td>5000</td>\n",
              "    </tr>\n",
              "    <tr>\n",
              "      <th>18</th>\n",
              "      <td>2020-10-11 00:00:00</td>\n",
              "      <td>GSL0002</td>\n",
              "      <td>ハイオク</td>\n",
              "      <td>40</td>\n",
              "      <td>160</td>\n",
              "      <td>6400</td>\n",
              "    </tr>\n",
              "    <tr>\n",
              "      <th>19</th>\n",
              "      <td>2020-10-12 00:00:00</td>\n",
              "      <td>GSL0002</td>\n",
              "      <td>ハイオク</td>\n",
              "      <td>30</td>\n",
              "      <td>160</td>\n",
              "      <td>4800</td>\n",
              "    </tr>\n",
              "    <tr>\n",
              "      <th>20</th>\n",
              "      <td>2020-10-13 00:00:00</td>\n",
              "      <td>GSL0003</td>\n",
              "      <td>軽油</td>\n",
              "      <td>50</td>\n",
              "      <td>100</td>\n",
              "      <td>5000</td>\n",
              "    </tr>\n",
              "    <tr>\n",
              "      <th>21</th>\n",
              "      <td>2020-10-14 00:00:00</td>\n",
              "      <td>GSL0003</td>\n",
              "      <td>軽油</td>\n",
              "      <td>50</td>\n",
              "      <td>100</td>\n",
              "      <td>5000</td>\n",
              "    </tr>\n",
              "    <tr>\n",
              "      <th>22</th>\n",
              "      <td>NaN</td>\n",
              "      <td>NaN</td>\n",
              "      <td>NaN</td>\n",
              "      <td>NaN</td>\n",
              "      <td>NaN</td>\n",
              "      <td>0</td>\n",
              "    </tr>\n",
              "  </tbody>\n",
              "</table>\n",
              "</div>\n",
              "      <button class=\"colab-df-convert\" onclick=\"convertToInteractive('df-7115bc82-6bf0-4dc0-adfb-8eddb79e7d7c')\"\n",
              "              title=\"Convert this dataframe to an interactive table.\"\n",
              "              style=\"display:none;\">\n",
              "        \n",
              "  <svg xmlns=\"http://www.w3.org/2000/svg\" height=\"24px\"viewBox=\"0 0 24 24\"\n",
              "       width=\"24px\">\n",
              "    <path d=\"M0 0h24v24H0V0z\" fill=\"none\"/>\n",
              "    <path d=\"M18.56 5.44l.94 2.06.94-2.06 2.06-.94-2.06-.94-.94-2.06-.94 2.06-2.06.94zm-11 1L8.5 8.5l.94-2.06 2.06-.94-2.06-.94L8.5 2.5l-.94 2.06-2.06.94zm10 10l.94 2.06.94-2.06 2.06-.94-2.06-.94-.94-2.06-.94 2.06-2.06.94z\"/><path d=\"M17.41 7.96l-1.37-1.37c-.4-.4-.92-.59-1.43-.59-.52 0-1.04.2-1.43.59L10.3 9.45l-7.72 7.72c-.78.78-.78 2.05 0 2.83L4 21.41c.39.39.9.59 1.41.59.51 0 1.02-.2 1.41-.59l7.78-7.78 2.81-2.81c.8-.78.8-2.07 0-2.86zM5.41 20L4 18.59l7.72-7.72 1.47 1.35L5.41 20z\"/>\n",
              "  </svg>\n",
              "      </button>\n",
              "      \n",
              "  <style>\n",
              "    .colab-df-container {\n",
              "      display:flex;\n",
              "      flex-wrap:wrap;\n",
              "      gap: 12px;\n",
              "    }\n",
              "\n",
              "    .colab-df-convert {\n",
              "      background-color: #E8F0FE;\n",
              "      border: none;\n",
              "      border-radius: 50%;\n",
              "      cursor: pointer;\n",
              "      display: none;\n",
              "      fill: #1967D2;\n",
              "      height: 32px;\n",
              "      padding: 0 0 0 0;\n",
              "      width: 32px;\n",
              "    }\n",
              "\n",
              "    .colab-df-convert:hover {\n",
              "      background-color: #E2EBFA;\n",
              "      box-shadow: 0px 1px 2px rgba(60, 64, 67, 0.3), 0px 1px 3px 1px rgba(60, 64, 67, 0.15);\n",
              "      fill: #174EA6;\n",
              "    }\n",
              "\n",
              "    [theme=dark] .colab-df-convert {\n",
              "      background-color: #3B4455;\n",
              "      fill: #D2E3FC;\n",
              "    }\n",
              "\n",
              "    [theme=dark] .colab-df-convert:hover {\n",
              "      background-color: #434B5C;\n",
              "      box-shadow: 0px 1px 3px 1px rgba(0, 0, 0, 0.15);\n",
              "      filter: drop-shadow(0px 1px 2px rgba(0, 0, 0, 0.3));\n",
              "      fill: #FFFFFF;\n",
              "    }\n",
              "  </style>\n",
              "\n",
              "      <script>\n",
              "        const buttonEl =\n",
              "          document.querySelector('#df-7115bc82-6bf0-4dc0-adfb-8eddb79e7d7c button.colab-df-convert');\n",
              "        buttonEl.style.display =\n",
              "          google.colab.kernel.accessAllowed ? 'block' : 'none';\n",
              "\n",
              "        async function convertToInteractive(key) {\n",
              "          const element = document.querySelector('#df-7115bc82-6bf0-4dc0-adfb-8eddb79e7d7c');\n",
              "          const dataTable =\n",
              "            await google.colab.kernel.invokeFunction('convertToInteractive',\n",
              "                                                     [key], {});\n",
              "          if (!dataTable) return;\n",
              "\n",
              "          const docLinkHtml = 'Like what you see? Visit the ' +\n",
              "            '<a target=\"_blank\" href=https://colab.research.google.com/notebooks/data_table.ipynb>data table notebook</a>'\n",
              "            + ' to learn more about interactive tables.';\n",
              "          element.innerHTML = '';\n",
              "          dataTable['output_type'] = 'display_data';\n",
              "          await google.colab.output.renderOutput(dataTable, element);\n",
              "          const docLink = document.createElement('div');\n",
              "          docLink.innerHTML = docLinkHtml;\n",
              "          element.appendChild(docLink);\n",
              "        }\n",
              "      </script>\n",
              "    </div>\n",
              "  </div>\n",
              "  "
            ]
          },
          "metadata": {},
          "execution_count": 75
        }
      ]
    },
    {
      "cell_type": "code",
      "source": [
        ""
      ],
      "metadata": {
        "id": "wX4hKccYeD-9"
      },
      "execution_count": null,
      "outputs": []
    }
  ]
}